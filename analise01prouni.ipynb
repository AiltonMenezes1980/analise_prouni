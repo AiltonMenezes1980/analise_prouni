{
 "cells": [
  {
   "cell_type": "markdown",
   "id": "4fe381bc-e204-41bb-81e9-6c7799f0c851",
   "metadata": {},
   "source": [
    "#### LinkedIn: [Ailton Amorim de Menezes](https://www.linkedin.com/in/ailton-amorim-de-menezes-1228a0282/)\n",
    "#### Kaggle: [Ailton Amorim de Menezes](https://www.kaggle.com/aiamenez/)\n",
    "#### GitHub: [Ailton Amorim de Menezes](https://github.com/AiltonMenezes1980/)"
   ]
  },
  {
   "cell_type": "markdown",
   "id": "2ae43413-3833-4068-a2cb-09b91d965b75",
   "metadata": {},
   "source": [
    "# <font color=\"blue\">Análise do Programa Universidade para Todos</font> <font color=\"green\">(Prouni)</font>"
   ]
  },
  {
   "cell_type": "markdown",
   "id": "9fdb576e-2612-4b71-94e4-587f31a1fed8",
   "metadata": {},
   "source": [
    "![Exama Nacional do Ensino Médio](images/enem.jpg)\n",
    "[Fonte da Imagem](https://commons.wikimedia.org/wiki/File:Participantes_do_Enem.jpg)"
   ]
  },
  {
   "cell_type": "markdown",
   "id": "02b80086-7756-4e4d-abba-e170051ca7cc",
   "metadata": {},
   "source": [
    "\r\n",
    "O Programa Universidade para Todos (Prouni) é uma das principais iniciativas educacionais do Brasil. Realizado anualmente pelo Instituto Nacional de Estudos e Pesquisas Educacionais Anísio Teixeira (INEP), o Prouni tem como objetivo principal fornecer bolsas de estudo integrais e parciais em instituições privadas de ensino superior para estudantes de baixa renda.\r\n",
    "\r\n",
    "Desde a sua criação em 2004, o Prouni desempenha um papel fundamental no sistema educacional brasileiro, contribuindo para a democratização do acesso à educação superior. Através do programa, estudantes têm a oportunidade de concorrer a bolsas de estudo com base no desempenho no Exame Nacional do Ensino Médio (ENEM) e em critérios socioeconômicos.\r\n",
    "\r\n",
    "No entanto, o Prouni não se limita apenas a oferecer bolsas de estudo. O programa também gera um rico conjunto de dados que podem ser explorados para obter insights valiosos sobre o sistema educacional do país. A partir desses dados, é possível realizar análises e pesquisas que contribuem para entender o desempenho dos estudantes, identificar tendências educacionais, investigar fatores que influenciam os resultados e propor melhorias para a qualidade da educação.\r\n",
    "\r\n",
    "Lembre-se de adaptar o restante do texto e as etapas de análise ao contexto específico do Prouni, explorando os dados disponíveis para obter insights relevantes sobre o programa e sua contribuição para o sistema educacional brasileiro."
   ]
  }
 ],
 "metadata": {
  "kernelspec": {
   "display_name": "Python 3 (ipykernel)",
   "language": "python",
   "name": "python3"
  },
  "language_info": {
   "codemirror_mode": {
    "name": "ipython",
    "version": 3
   },
   "file_extension": ".py",
   "mimetype": "text/x-python",
   "name": "python",
   "nbconvert_exporter": "python",
   "pygments_lexer": "ipython3",
   "version": "3.11.4"
  }
 },
 "nbformat": 4,
 "nbformat_minor": 5
}
