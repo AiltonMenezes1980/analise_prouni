{
 "cells": [
  {
   "cell_type": "markdown",
   "id": "c4ef6f20-ceff-4869-b3a2-7e5ae81fc4b6",
   "metadata": {},
   "source": [
    "#### LinkedIn: [Ailton Amorim de Menezes](https://www.linkedin.com/in/ailton-amorim-de-menezes-1228a0282/)\n",
    "#### Kaggle: [Ailton Amorim de Menezes](https://www.kaggle.com/aiamenez/)\n",
    "#### GitHub: [Ailton Amorim de Menezes](https://github.com/AiltonMenezes1980/)"
   ]
  },
  {
   "cell_type": "markdown",
   "id": "8ddbe523-bafe-4771-abea-2fb39e5f8861",
   "metadata": {},
   "source": [
    "\r\n",
    "Este notebook tem como objetivo combinar vários conjuntos de dados do Prouni de diferentes anos em um único conjunto de dados consolidado. Optei por essa abordagem por diversos motivos:\r\n",
    "\r\n",
    "1. Análise abrangente:\r\n",
    "   Ao combinar os conjuntos de dados do Prouni, posso realizar análises que consideram um período mais longo, abrangendo vários anos do programa. Isso permite identificar tendências, padrões e mudanças ao longo do tempo, fornecendo insights mais completos sobre o desempenho dos alunos, distribuição de bolsas e outros aspectos relacionados ao Prouni.\r\n",
    "\r\n",
    "2. Eficiência de processamento:\r\n",
    "   Ao tratar os dados do Prouni em conjunto, posso otimizar o uso dos recursos computacionais disponíveis. Utilizando técnicas adequadas para lidar com grandes volumes de dados, como amostragem ou processamento em lote, posso garantir a eficiência de processamento e análise.\r\n",
    "\r\n",
    "3. Comparação direta:\r\n",
    "   Com os dados consolidados do Prouni, é mais fácil realizar comparações diretas entre diferentes anos do programa. Posso identificar diferenças e semelhanças nos resultados, acompanhar a evolução de indicadores ao longo do tempo e explorar variações regionais. Essa visão comparativa pode fornecer insights valiosos para pesquisas e tomada de decisões no âmbito do programa.\r\n",
    "\r\n",
    "4. Redução de complexidade:\r\n",
    "   Trabalhar com um único conjunto de dados consolidado simplifica a análise do Prouni. Não é necessário alternar entre diferentes conjuntos de dados ou considerar particularidades individuais de cada ano separadamente. Isso economiza tempo e esforço na preparação dos dados e na realização de análises subsequentes.\r\n",
    "\r\n",
    "Embora a abordagem de tratar os dados separadamente possa ter suas vantagens, a análise consolidada dos conjuntos de dados do Prouni permite uma visão mais abrangente e um entendimento mais completo do programa ao longo dos anos."
   ]
  },
  {
   "cell_type": "code",
   "execution_count": 1,
   "id": "842b0629-931b-4e15-b29d-6c7f64cccb81",
   "metadata": {},
   "outputs": [
    {
     "name": "stdout",
     "output_type": "stream",
     "text": [
      "Versão do Python Usada Nesta Análise: 3.11.4\n"
     ]
    }
   ],
   "source": [
    "from platform import python_version\n",
    "print(f\"Versão do Python Usada Nesta Análise: {python_version()}\")"
   ]
  },
  {
   "cell_type": "code",
   "execution_count": 2,
   "id": "7d5f39d3-93d1-40bf-81fb-4c0f9078b6a6",
   "metadata": {},
   "outputs": [],
   "source": [
    "import pandas as pd\n",
    "import sqlite3"
   ]
  },
  {
   "cell_type": "code",
   "execution_count": 3,
   "id": "bd43454d-ae97-4e57-9602-7e5f63da53c3",
   "metadata": {},
   "outputs": [
    {
     "name": "stdout",
     "output_type": "stream",
     "text": [
      "Author: Ailton Amorim de Menezes\n",
      "\n",
      "pandas : 2.0.3\n",
      "sqlite3: 2.6.0\n",
      "\n"
     ]
    }
   ],
   "source": [
    "%reload_ext watermark\n",
    "%watermark -a \"Ailton Amorim de Menezes\" --iversions"
   ]
  },
  {
   "cell_type": "code",
   "execution_count": 4,
   "id": "234c7e52-2262-4c68-9795-5817c4c0a1d5",
   "metadata": {},
   "outputs": [],
   "source": [
    "df_2018 = pd.read_csv(\"dataset/pda-prouni-2018.csv\", encoding = \"utf-8\", sep = \";\")"
   ]
  },
  {
   "cell_type": "code",
   "execution_count": 5,
   "id": "e62f41ea-f0c8-4ba1-9abf-15b0ff359004",
   "metadata": {},
   "outputs": [
    {
     "data": {
      "text/html": [
       "<div>\n",
       "<style scoped>\n",
       "    .dataframe tbody tr th:only-of-type {\n",
       "        vertical-align: middle;\n",
       "    }\n",
       "\n",
       "    .dataframe tbody tr th {\n",
       "        vertical-align: top;\n",
       "    }\n",
       "\n",
       "    .dataframe thead th {\n",
       "        text-align: right;\n",
       "    }\n",
       "</style>\n",
       "<table border=\"1\" class=\"dataframe\">\n",
       "  <thead>\n",
       "    <tr style=\"text-align: right;\">\n",
       "      <th></th>\n",
       "      <th>ANO_CONCESSAO_BOLSA</th>\n",
       "      <th>CODIGO_EMEC_IES_BOLSA</th>\n",
       "      <th>NOME_IES_BOLSA</th>\n",
       "      <th>TIPO_BOLSA</th>\n",
       "      <th>MODALIDADE_ENSINO_BOLSA</th>\n",
       "      <th>NOME_CURSO_BOLSA</th>\n",
       "      <th>NOME_TURNO_CURSO_BOLSA</th>\n",
       "      <th>CPF_BENEFICIARIO_BOLSA</th>\n",
       "      <th>SEXO_BENEFICIARIO_BOLSA</th>\n",
       "      <th>RACA_BENEFICIARIO_BOLSA</th>\n",
       "      <th>DT_NASCIMENTO_BENEFICIARIO</th>\n",
       "      <th>BENEFICIARIO_DEFICIENTE_FISICO</th>\n",
       "      <th>REGIAO_BENEFICIARIO_BOLSA</th>\n",
       "      <th>SIGLA_UF_BENEFICIARIO_BOLSA</th>\n",
       "      <th>MUNICIPIO_BENEFICIARIO_BOLSA</th>\n",
       "    </tr>\n",
       "  </thead>\n",
       "  <tbody>\n",
       "    <tr>\n",
       "      <th>0</th>\n",
       "      <td>2018</td>\n",
       "      <td>11</td>\n",
       "      <td>UNIVERSIDADE CATÓLICA DE PERNAMBUCO</td>\n",
       "      <td>BOLSA INTEGRAL</td>\n",
       "      <td>Presencial</td>\n",
       "      <td>Letras - Espanhol</td>\n",
       "      <td>Noturno</td>\n",
       "      <td>***57897489**</td>\n",
       "      <td>F</td>\n",
       "      <td>Parda</td>\n",
       "      <td>15/07/1980</td>\n",
       "      <td>N</td>\n",
       "      <td>Nordeste</td>\n",
       "      <td>PE</td>\n",
       "      <td>RECIFE</td>\n",
       "    </tr>\n",
       "    <tr>\n",
       "      <th>1</th>\n",
       "      <td>2018</td>\n",
       "      <td>11</td>\n",
       "      <td>UNIVERSIDADE CATÓLICA DE PERNAMBUCO</td>\n",
       "      <td>BOLSA INTEGRAL</td>\n",
       "      <td>Presencial</td>\n",
       "      <td>Letras - Português E Espanhol</td>\n",
       "      <td>Noturno</td>\n",
       "      <td>***76246461**</td>\n",
       "      <td>M</td>\n",
       "      <td>Branca</td>\n",
       "      <td>06/09/2000</td>\n",
       "      <td>N</td>\n",
       "      <td>Nordeste</td>\n",
       "      <td>PE</td>\n",
       "      <td>PAULISTA</td>\n",
       "    </tr>\n",
       "    <tr>\n",
       "      <th>2</th>\n",
       "      <td>2018</td>\n",
       "      <td>11</td>\n",
       "      <td>UNIVERSIDADE CATÓLICA DE PERNAMBUCO</td>\n",
       "      <td>BOLSA INTEGRAL</td>\n",
       "      <td>Presencial</td>\n",
       "      <td>Psicologia</td>\n",
       "      <td>Vespertino</td>\n",
       "      <td>***39273455**</td>\n",
       "      <td>F</td>\n",
       "      <td>Parda</td>\n",
       "      <td>04/11/1998</td>\n",
       "      <td>N</td>\n",
       "      <td>Nordeste</td>\n",
       "      <td>PE</td>\n",
       "      <td>RECIFE</td>\n",
       "    </tr>\n",
       "    <tr>\n",
       "      <th>3</th>\n",
       "      <td>2018</td>\n",
       "      <td>11</td>\n",
       "      <td>UNIVERSIDADE CATÓLICA DE PERNAMBUCO</td>\n",
       "      <td>BOLSA INTEGRAL</td>\n",
       "      <td>Presencial</td>\n",
       "      <td>Serviço Social</td>\n",
       "      <td>Noturno</td>\n",
       "      <td>***19076433**</td>\n",
       "      <td>F</td>\n",
       "      <td>Parda</td>\n",
       "      <td>29/09/1999</td>\n",
       "      <td>N</td>\n",
       "      <td>Nordeste</td>\n",
       "      <td>PE</td>\n",
       "      <td>RECIFE</td>\n",
       "    </tr>\n",
       "    <tr>\n",
       "      <th>4</th>\n",
       "      <td>2018</td>\n",
       "      <td>13</td>\n",
       "      <td>UNIVERSIDADE DE CAXIAS DO SUL</td>\n",
       "      <td>BOLSA INTEGRAL</td>\n",
       "      <td>EAD</td>\n",
       "      <td>Administração</td>\n",
       "      <td>Curso a distância</td>\n",
       "      <td>***11417080**</td>\n",
       "      <td>F</td>\n",
       "      <td>Branca</td>\n",
       "      <td>30/04/2000</td>\n",
       "      <td>N</td>\n",
       "      <td>Sul</td>\n",
       "      <td>RS</td>\n",
       "      <td>SAO FRANCISCO DE PAULA</td>\n",
       "    </tr>\n",
       "  </tbody>\n",
       "</table>\n",
       "</div>"
      ],
      "text/plain": [
       "   ANO_CONCESSAO_BOLSA  CODIGO_EMEC_IES_BOLSA  \\\n",
       "0                 2018                     11   \n",
       "1                 2018                     11   \n",
       "2                 2018                     11   \n",
       "3                 2018                     11   \n",
       "4                 2018                     13   \n",
       "\n",
       "                        NOME_IES_BOLSA      TIPO_BOLSA  \\\n",
       "0  UNIVERSIDADE CATÓLICA DE PERNAMBUCO  BOLSA INTEGRAL   \n",
       "1  UNIVERSIDADE CATÓLICA DE PERNAMBUCO  BOLSA INTEGRAL   \n",
       "2  UNIVERSIDADE CATÓLICA DE PERNAMBUCO  BOLSA INTEGRAL   \n",
       "3  UNIVERSIDADE CATÓLICA DE PERNAMBUCO  BOLSA INTEGRAL   \n",
       "4        UNIVERSIDADE DE CAXIAS DO SUL  BOLSA INTEGRAL   \n",
       "\n",
       "  MODALIDADE_ENSINO_BOLSA               NOME_CURSO_BOLSA  \\\n",
       "0              Presencial              Letras - Espanhol   \n",
       "1              Presencial  Letras - Português E Espanhol   \n",
       "2              Presencial                     Psicologia   \n",
       "3              Presencial                 Serviço Social   \n",
       "4                     EAD                  Administração   \n",
       "\n",
       "  NOME_TURNO_CURSO_BOLSA CPF_BENEFICIARIO_BOLSA SEXO_BENEFICIARIO_BOLSA  \\\n",
       "0                Noturno          ***57897489**                       F   \n",
       "1                Noturno          ***76246461**                       M   \n",
       "2             Vespertino          ***39273455**                       F   \n",
       "3                Noturno          ***19076433**                       F   \n",
       "4      Curso a distância          ***11417080**                       F   \n",
       "\n",
       "  RACA_BENEFICIARIO_BOLSA DT_NASCIMENTO_BENEFICIARIO  \\\n",
       "0                   Parda                 15/07/1980   \n",
       "1                  Branca                 06/09/2000   \n",
       "2                   Parda                 04/11/1998   \n",
       "3                   Parda                 29/09/1999   \n",
       "4                  Branca                 30/04/2000   \n",
       "\n",
       "  BENEFICIARIO_DEFICIENTE_FISICO REGIAO_BENEFICIARIO_BOLSA  \\\n",
       "0                              N                  Nordeste   \n",
       "1                              N                  Nordeste   \n",
       "2                              N                  Nordeste   \n",
       "3                              N                  Nordeste   \n",
       "4                              N                       Sul   \n",
       "\n",
       "  SIGLA_UF_BENEFICIARIO_BOLSA MUNICIPIO_BENEFICIARIO_BOLSA  \n",
       "0                          PE                       RECIFE  \n",
       "1                          PE                     PAULISTA  \n",
       "2                          PE                       RECIFE  \n",
       "3                          PE                       RECIFE  \n",
       "4                          RS       SAO FRANCISCO DE PAULA  "
      ]
     },
     "execution_count": 5,
     "metadata": {},
     "output_type": "execute_result"
    }
   ],
   "source": [
    "df_2018.head()"
   ]
  },
  {
   "cell_type": "code",
   "execution_count": 6,
   "id": "b02fac69-6cbd-4eea-99f8-69e2e939e999",
   "metadata": {},
   "outputs": [],
   "source": [
    "colunas_apagar = [\"CODIGO_EMEC_IES_BOLSA\", \"CPF_BENEFICIARIO_BOLSA\"]\n",
    "\n",
    "df_2018.drop(columns = colunas_apagar, inplace = True)"
   ]
  },
  {
   "cell_type": "code",
   "execution_count": 7,
   "id": "b75282d4-ab1b-41ac-9d08-07459e91364a",
   "metadata": {},
   "outputs": [
    {
     "data": {
      "text/html": [
       "<div>\n",
       "<style scoped>\n",
       "    .dataframe tbody tr th:only-of-type {\n",
       "        vertical-align: middle;\n",
       "    }\n",
       "\n",
       "    .dataframe tbody tr th {\n",
       "        vertical-align: top;\n",
       "    }\n",
       "\n",
       "    .dataframe thead th {\n",
       "        text-align: right;\n",
       "    }\n",
       "</style>\n",
       "<table border=\"1\" class=\"dataframe\">\n",
       "  <thead>\n",
       "    <tr style=\"text-align: right;\">\n",
       "      <th></th>\n",
       "      <th>ANO_CONCESSAO_BOLSA</th>\n",
       "      <th>NOME_IES_BOLSA</th>\n",
       "      <th>TIPO_BOLSA</th>\n",
       "      <th>MODALIDADE_ENSINO_BOLSA</th>\n",
       "      <th>NOME_CURSO_BOLSA</th>\n",
       "      <th>NOME_TURNO_CURSO_BOLSA</th>\n",
       "      <th>SEXO_BENEFICIARIO_BOLSA</th>\n",
       "      <th>RACA_BENEFICIARIO_BOLSA</th>\n",
       "      <th>DT_NASCIMENTO_BENEFICIARIO</th>\n",
       "      <th>BENEFICIARIO_DEFICIENTE_FISICO</th>\n",
       "      <th>REGIAO_BENEFICIARIO_BOLSA</th>\n",
       "      <th>SIGLA_UF_BENEFICIARIO_BOLSA</th>\n",
       "      <th>MUNICIPIO_BENEFICIARIO_BOLSA</th>\n",
       "    </tr>\n",
       "  </thead>\n",
       "  <tbody>\n",
       "    <tr>\n",
       "      <th>0</th>\n",
       "      <td>2018</td>\n",
       "      <td>UNIVERSIDADE CATÓLICA DE PERNAMBUCO</td>\n",
       "      <td>BOLSA INTEGRAL</td>\n",
       "      <td>Presencial</td>\n",
       "      <td>Letras - Espanhol</td>\n",
       "      <td>Noturno</td>\n",
       "      <td>F</td>\n",
       "      <td>Parda</td>\n",
       "      <td>15/07/1980</td>\n",
       "      <td>N</td>\n",
       "      <td>Nordeste</td>\n",
       "      <td>PE</td>\n",
       "      <td>RECIFE</td>\n",
       "    </tr>\n",
       "    <tr>\n",
       "      <th>1</th>\n",
       "      <td>2018</td>\n",
       "      <td>UNIVERSIDADE CATÓLICA DE PERNAMBUCO</td>\n",
       "      <td>BOLSA INTEGRAL</td>\n",
       "      <td>Presencial</td>\n",
       "      <td>Letras - Português E Espanhol</td>\n",
       "      <td>Noturno</td>\n",
       "      <td>M</td>\n",
       "      <td>Branca</td>\n",
       "      <td>06/09/2000</td>\n",
       "      <td>N</td>\n",
       "      <td>Nordeste</td>\n",
       "      <td>PE</td>\n",
       "      <td>PAULISTA</td>\n",
       "    </tr>\n",
       "    <tr>\n",
       "      <th>2</th>\n",
       "      <td>2018</td>\n",
       "      <td>UNIVERSIDADE CATÓLICA DE PERNAMBUCO</td>\n",
       "      <td>BOLSA INTEGRAL</td>\n",
       "      <td>Presencial</td>\n",
       "      <td>Psicologia</td>\n",
       "      <td>Vespertino</td>\n",
       "      <td>F</td>\n",
       "      <td>Parda</td>\n",
       "      <td>04/11/1998</td>\n",
       "      <td>N</td>\n",
       "      <td>Nordeste</td>\n",
       "      <td>PE</td>\n",
       "      <td>RECIFE</td>\n",
       "    </tr>\n",
       "    <tr>\n",
       "      <th>3</th>\n",
       "      <td>2018</td>\n",
       "      <td>UNIVERSIDADE CATÓLICA DE PERNAMBUCO</td>\n",
       "      <td>BOLSA INTEGRAL</td>\n",
       "      <td>Presencial</td>\n",
       "      <td>Serviço Social</td>\n",
       "      <td>Noturno</td>\n",
       "      <td>F</td>\n",
       "      <td>Parda</td>\n",
       "      <td>29/09/1999</td>\n",
       "      <td>N</td>\n",
       "      <td>Nordeste</td>\n",
       "      <td>PE</td>\n",
       "      <td>RECIFE</td>\n",
       "    </tr>\n",
       "    <tr>\n",
       "      <th>4</th>\n",
       "      <td>2018</td>\n",
       "      <td>UNIVERSIDADE DE CAXIAS DO SUL</td>\n",
       "      <td>BOLSA INTEGRAL</td>\n",
       "      <td>EAD</td>\n",
       "      <td>Administração</td>\n",
       "      <td>Curso a distância</td>\n",
       "      <td>F</td>\n",
       "      <td>Branca</td>\n",
       "      <td>30/04/2000</td>\n",
       "      <td>N</td>\n",
       "      <td>Sul</td>\n",
       "      <td>RS</td>\n",
       "      <td>SAO FRANCISCO DE PAULA</td>\n",
       "    </tr>\n",
       "  </tbody>\n",
       "</table>\n",
       "</div>"
      ],
      "text/plain": [
       "   ANO_CONCESSAO_BOLSA                       NOME_IES_BOLSA      TIPO_BOLSA  \\\n",
       "0                 2018  UNIVERSIDADE CATÓLICA DE PERNAMBUCO  BOLSA INTEGRAL   \n",
       "1                 2018  UNIVERSIDADE CATÓLICA DE PERNAMBUCO  BOLSA INTEGRAL   \n",
       "2                 2018  UNIVERSIDADE CATÓLICA DE PERNAMBUCO  BOLSA INTEGRAL   \n",
       "3                 2018  UNIVERSIDADE CATÓLICA DE PERNAMBUCO  BOLSA INTEGRAL   \n",
       "4                 2018        UNIVERSIDADE DE CAXIAS DO SUL  BOLSA INTEGRAL   \n",
       "\n",
       "  MODALIDADE_ENSINO_BOLSA               NOME_CURSO_BOLSA  \\\n",
       "0              Presencial              Letras - Espanhol   \n",
       "1              Presencial  Letras - Português E Espanhol   \n",
       "2              Presencial                     Psicologia   \n",
       "3              Presencial                 Serviço Social   \n",
       "4                     EAD                  Administração   \n",
       "\n",
       "  NOME_TURNO_CURSO_BOLSA SEXO_BENEFICIARIO_BOLSA RACA_BENEFICIARIO_BOLSA  \\\n",
       "0                Noturno                       F                   Parda   \n",
       "1                Noturno                       M                  Branca   \n",
       "2             Vespertino                       F                   Parda   \n",
       "3                Noturno                       F                   Parda   \n",
       "4      Curso a distância                       F                  Branca   \n",
       "\n",
       "  DT_NASCIMENTO_BENEFICIARIO BENEFICIARIO_DEFICIENTE_FISICO  \\\n",
       "0                 15/07/1980                              N   \n",
       "1                 06/09/2000                              N   \n",
       "2                 04/11/1998                              N   \n",
       "3                 29/09/1999                              N   \n",
       "4                 30/04/2000                              N   \n",
       "\n",
       "  REGIAO_BENEFICIARIO_BOLSA SIGLA_UF_BENEFICIARIO_BOLSA  \\\n",
       "0                  Nordeste                          PE   \n",
       "1                  Nordeste                          PE   \n",
       "2                  Nordeste                          PE   \n",
       "3                  Nordeste                          PE   \n",
       "4                       Sul                          RS   \n",
       "\n",
       "  MUNICIPIO_BENEFICIARIO_BOLSA  \n",
       "0                       RECIFE  \n",
       "1                     PAULISTA  \n",
       "2                       RECIFE  \n",
       "3                       RECIFE  \n",
       "4       SAO FRANCISCO DE PAULA  "
      ]
     },
     "execution_count": 7,
     "metadata": {},
     "output_type": "execute_result"
    }
   ],
   "source": [
    "df_2018.head()"
   ]
  },
  {
   "cell_type": "code",
   "execution_count": 8,
   "id": "1838722b-22d0-462c-8d7f-8c977ade6f1d",
   "metadata": {},
   "outputs": [
    {
     "data": {
      "text/plain": [
       "(241032, 13)"
      ]
     },
     "execution_count": 8,
     "metadata": {},
     "output_type": "execute_result"
    }
   ],
   "source": [
    "df_2018.shape"
   ]
  },
  {
   "cell_type": "code",
   "execution_count": 9,
   "id": "f4fcfb6c-9b01-49a8-9a3c-0fcc0152b4c0",
   "metadata": {},
   "outputs": [],
   "source": [
    "df_2019 = pd.read_csv(\"dataset/pda-prouni-2019.csv\", encoding = \"utf-8\", sep = \";\")"
   ]
  },
  {
   "cell_type": "code",
   "execution_count": 10,
   "id": "4bc9f0ca-4fc7-4f5e-870b-af18a450dd5b",
   "metadata": {},
   "outputs": [
    {
     "data": {
      "text/html": [
       "<div>\n",
       "<style scoped>\n",
       "    .dataframe tbody tr th:only-of-type {\n",
       "        vertical-align: middle;\n",
       "    }\n",
       "\n",
       "    .dataframe tbody tr th {\n",
       "        vertical-align: top;\n",
       "    }\n",
       "\n",
       "    .dataframe thead th {\n",
       "        text-align: right;\n",
       "    }\n",
       "</style>\n",
       "<table border=\"1\" class=\"dataframe\">\n",
       "  <thead>\n",
       "    <tr style=\"text-align: right;\">\n",
       "      <th></th>\n",
       "      <th>ANO_CONCESSAO_BOLSA</th>\n",
       "      <th>CODIGO_EMEC_IES_BOLSA</th>\n",
       "      <th>NOME_IES_BOLSA</th>\n",
       "      <th>TIPO_BOLSA</th>\n",
       "      <th>MODALIDADE_ENSINO_BOLSA</th>\n",
       "      <th>NOME_CURSO_BOLSA</th>\n",
       "      <th>NOME_TURNO_CURSO_BOLSA</th>\n",
       "      <th>CPF_BENEFICIARIO_BOLSA</th>\n",
       "      <th>SEXO_BENEFICIARIO_BOLSA</th>\n",
       "      <th>RACA_BENEFICIARIO_BOLSA</th>\n",
       "      <th>DT_NASCIMENTO_BENEFICIARIO</th>\n",
       "      <th>BENEFICIARIO_DEFICIENTE_FISICO</th>\n",
       "      <th>REGIAO_BENEFICIARIO_BOLSA</th>\n",
       "      <th>SIGLA_UF_BENEFICIARIO_BOLSA</th>\n",
       "      <th>MUNICIPIO_BENEFICIARIO_BOLSA</th>\n",
       "    </tr>\n",
       "  </thead>\n",
       "  <tbody>\n",
       "    <tr>\n",
       "      <th>0</th>\n",
       "      <td>2019.0</td>\n",
       "      <td>10.0</td>\n",
       "      <td>PONTIFÍCIA UNIVERSIDADE CATÓLICA DO PARANÁ</td>\n",
       "      <td>BOLSA INTEGRAL</td>\n",
       "      <td>EAD</td>\n",
       "      <td>Administração</td>\n",
       "      <td>Curso a distância</td>\n",
       "      <td>***03183970**</td>\n",
       "      <td>M</td>\n",
       "      <td>Branca</td>\n",
       "      <td>19/08/1993</td>\n",
       "      <td>N</td>\n",
       "      <td>Sul</td>\n",
       "      <td>PR</td>\n",
       "      <td>LONDRINA</td>\n",
       "    </tr>\n",
       "    <tr>\n",
       "      <th>1</th>\n",
       "      <td>2019.0</td>\n",
       "      <td>10.0</td>\n",
       "      <td>PONTIFÍCIA UNIVERSIDADE CATÓLICA DO PARANÁ</td>\n",
       "      <td>BOLSA INTEGRAL</td>\n",
       "      <td>EAD</td>\n",
       "      <td>Administração</td>\n",
       "      <td>Curso a distância</td>\n",
       "      <td>***92848904**</td>\n",
       "      <td>F</td>\n",
       "      <td>Branca</td>\n",
       "      <td>03/11/1999</td>\n",
       "      <td>N</td>\n",
       "      <td>Sul</td>\n",
       "      <td>PR</td>\n",
       "      <td>SAO JOSE DOS PINHAIS</td>\n",
       "    </tr>\n",
       "    <tr>\n",
       "      <th>2</th>\n",
       "      <td>2019.0</td>\n",
       "      <td>10.0</td>\n",
       "      <td>PONTIFÍCIA UNIVERSIDADE CATÓLICA DO PARANÁ</td>\n",
       "      <td>BOLSA INTEGRAL</td>\n",
       "      <td>EAD</td>\n",
       "      <td>Análise E Desenvolvimento De Sistemas</td>\n",
       "      <td>Curso a distância</td>\n",
       "      <td>***12457929**</td>\n",
       "      <td>M</td>\n",
       "      <td>Parda</td>\n",
       "      <td>02/04/1999</td>\n",
       "      <td>N</td>\n",
       "      <td>Sul</td>\n",
       "      <td>PR</td>\n",
       "      <td>QUATRO BARRAS</td>\n",
       "    </tr>\n",
       "    <tr>\n",
       "      <th>3</th>\n",
       "      <td>2019.0</td>\n",
       "      <td>10.0</td>\n",
       "      <td>PONTIFÍCIA UNIVERSIDADE CATÓLICA DO PARANÁ</td>\n",
       "      <td>BOLSA INTEGRAL</td>\n",
       "      <td>EAD</td>\n",
       "      <td>Análise E Desenvolvimento De Sistemas</td>\n",
       "      <td>Curso a distância</td>\n",
       "      <td>***21386908**</td>\n",
       "      <td>M</td>\n",
       "      <td>Branca</td>\n",
       "      <td>15/03/2000</td>\n",
       "      <td>N</td>\n",
       "      <td>Sul</td>\n",
       "      <td>PR</td>\n",
       "      <td>CURITIBA</td>\n",
       "    </tr>\n",
       "    <tr>\n",
       "      <th>4</th>\n",
       "      <td>2019.0</td>\n",
       "      <td>10.0</td>\n",
       "      <td>PONTIFÍCIA UNIVERSIDADE CATÓLICA DO PARANÁ</td>\n",
       "      <td>BOLSA INTEGRAL</td>\n",
       "      <td>EAD</td>\n",
       "      <td>Análise E Desenvolvimento De Sistemas</td>\n",
       "      <td>Curso a distância</td>\n",
       "      <td>***27405933**</td>\n",
       "      <td>M</td>\n",
       "      <td>Branca</td>\n",
       "      <td>23/05/1993</td>\n",
       "      <td>N</td>\n",
       "      <td>Sul</td>\n",
       "      <td>PR</td>\n",
       "      <td>SAO JOSE DOS PINHAIS</td>\n",
       "    </tr>\n",
       "  </tbody>\n",
       "</table>\n",
       "</div>"
      ],
      "text/plain": [
       "   ANO_CONCESSAO_BOLSA  CODIGO_EMEC_IES_BOLSA  \\\n",
       "0               2019.0                   10.0   \n",
       "1               2019.0                   10.0   \n",
       "2               2019.0                   10.0   \n",
       "3               2019.0                   10.0   \n",
       "4               2019.0                   10.0   \n",
       "\n",
       "                               NOME_IES_BOLSA      TIPO_BOLSA  \\\n",
       "0  PONTIFÍCIA UNIVERSIDADE CATÓLICA DO PARANÁ  BOLSA INTEGRAL   \n",
       "1  PONTIFÍCIA UNIVERSIDADE CATÓLICA DO PARANÁ  BOLSA INTEGRAL   \n",
       "2  PONTIFÍCIA UNIVERSIDADE CATÓLICA DO PARANÁ  BOLSA INTEGRAL   \n",
       "3  PONTIFÍCIA UNIVERSIDADE CATÓLICA DO PARANÁ  BOLSA INTEGRAL   \n",
       "4  PONTIFÍCIA UNIVERSIDADE CATÓLICA DO PARANÁ  BOLSA INTEGRAL   \n",
       "\n",
       "  MODALIDADE_ENSINO_BOLSA                       NOME_CURSO_BOLSA  \\\n",
       "0                     EAD                          Administração   \n",
       "1                     EAD                          Administração   \n",
       "2                     EAD  Análise E Desenvolvimento De Sistemas   \n",
       "3                     EAD  Análise E Desenvolvimento De Sistemas   \n",
       "4                     EAD  Análise E Desenvolvimento De Sistemas   \n",
       "\n",
       "  NOME_TURNO_CURSO_BOLSA CPF_BENEFICIARIO_BOLSA SEXO_BENEFICIARIO_BOLSA  \\\n",
       "0      Curso a distância          ***03183970**                       M   \n",
       "1      Curso a distância          ***92848904**                       F   \n",
       "2      Curso a distância          ***12457929**                       M   \n",
       "3      Curso a distância          ***21386908**                       M   \n",
       "4      Curso a distância          ***27405933**                       M   \n",
       "\n",
       "  RACA_BENEFICIARIO_BOLSA DT_NASCIMENTO_BENEFICIARIO  \\\n",
       "0                  Branca                 19/08/1993   \n",
       "1                  Branca                 03/11/1999   \n",
       "2                   Parda                 02/04/1999   \n",
       "3                  Branca                 15/03/2000   \n",
       "4                  Branca                 23/05/1993   \n",
       "\n",
       "  BENEFICIARIO_DEFICIENTE_FISICO REGIAO_BENEFICIARIO_BOLSA  \\\n",
       "0                              N                       Sul   \n",
       "1                              N                       Sul   \n",
       "2                              N                       Sul   \n",
       "3                              N                       Sul   \n",
       "4                              N                       Sul   \n",
       "\n",
       "  SIGLA_UF_BENEFICIARIO_BOLSA MUNICIPIO_BENEFICIARIO_BOLSA  \n",
       "0                          PR                     LONDRINA  \n",
       "1                          PR         SAO JOSE DOS PINHAIS  \n",
       "2                          PR                QUATRO BARRAS  \n",
       "3                          PR                     CURITIBA  \n",
       "4                          PR         SAO JOSE DOS PINHAIS  "
      ]
     },
     "execution_count": 10,
     "metadata": {},
     "output_type": "execute_result"
    }
   ],
   "source": [
    "df_2019.head()"
   ]
  },
  {
   "cell_type": "code",
   "execution_count": 11,
   "id": "4aa1b1f6-9765-46c7-98f4-7600ab55c7d9",
   "metadata": {},
   "outputs": [],
   "source": [
    "colunas_apagar = [\"CODIGO_EMEC_IES_BOLSA\", \"CPF_BENEFICIARIO_BOLSA\"]\n",
    "\n",
    "df_2019.drop(columns = colunas_apagar, inplace = True)"
   ]
  },
  {
   "cell_type": "code",
   "execution_count": 12,
   "id": "c5f3b213-32b9-42d8-b990-88e5d1a3ec41",
   "metadata": {},
   "outputs": [
    {
     "data": {
      "text/plain": [
       "(241032, 13)"
      ]
     },
     "execution_count": 12,
     "metadata": {},
     "output_type": "execute_result"
    }
   ],
   "source": [
    "df_2019.head()\n",
    "df_2019.shape"
   ]
  },
  {
   "cell_type": "markdown",
   "id": "52bd46ce-7f6f-4a53-896e-539345c51c7e",
   "metadata": {},
   "source": [
    "\r\n",
    "Justificativa para a exclusão das colunas:\r\n",
    "\r\n",
    "1. Privacidade dos beneficiários: O Prouni lida com informações pessoais dos beneficiários, como o CPF (Cadastro de Pessoa Física), que é uma informação sensível. Por questões de privacidade e segurança dos beneficiários, a exclusão da coluna \"CPF_BENEFICIARIO_BOLSA\" foi realizada, garantindo assim a proteção de dados sensíveis e evitando possíveis violações de privacidade.\r\n",
    "\r\n",
    "2. Relevância para a análise em questão: A coluna \"CODIGO_EMEC_IES_BOLSA\" refere-se ao código da instituição de ensino no âmbito do Prouni. No contexto desta análise específica, que se concentra na faixa etária dos beneficiários e suas características demográficas, o código da instituição não é diretamente relevante. Portanto, a exclusão da coluna permite focar nas variáveis de interesse para a investigação em curso, simplificando o conjunto de dados e concentrando-se nas informações-chave.\r\n",
    "\r\n",
    "Ao excluir essas colunas, o foco é direcionado para as variáveis mais relevantes e significativas para a análise em questão. Isso permite uma análise mais precisa e uma interpretação mais clara dos dados disponíveis, facilitando a identificação de padrões, tendências e insights valiosos relacionados à faixa etária dos beneficiários do Prouni.\r\n",
    "\r\n",
    "Essa exclusão também está em conformidade com os princípios de proteção de dados e privacidade, garantindo a confidencialidade das informações pessoais dos beneficiários e seguindo as diretrizes éticas de análise de dados.\r\n",
    "\r\n",
    "A exclusão das colunas mencionadas contribui para uma análise mais focalizada e consistente, fornecendo uma visão mais aprofundada sobre a faixa etária dos beneficiários e suas características demográficas relevantes no contexto do Programa Universidade para Todos."
   ]
  },
  {
   "cell_type": "code",
   "execution_count": 13,
   "id": "404f6ef8-d0c4-4526-b49d-98b6c4c7584c",
   "metadata": {},
   "outputs": [],
   "source": [
    "df_2020 = pd.read_csv(\"dataset/pda-prouni-2020.csv\", encoding = \"latin-1\", sep = \";\")"
   ]
  },
  {
   "cell_type": "code",
   "execution_count": 14,
   "id": "75b120ed-d1b2-49d2-aaa9-e1c3ca65d54a",
   "metadata": {},
   "outputs": [
    {
     "data": {
      "text/html": [
       "<div>\n",
       "<style scoped>\n",
       "    .dataframe tbody tr th:only-of-type {\n",
       "        vertical-align: middle;\n",
       "    }\n",
       "\n",
       "    .dataframe tbody tr th {\n",
       "        vertical-align: top;\n",
       "    }\n",
       "\n",
       "    .dataframe thead th {\n",
       "        text-align: right;\n",
       "    }\n",
       "</style>\n",
       "<table border=\"1\" class=\"dataframe\">\n",
       "  <thead>\n",
       "    <tr style=\"text-align: right;\">\n",
       "      <th></th>\n",
       "      <th>ANO_CONCESSAO_BOLSA</th>\n",
       "      <th>CODIGO_EMEC_IES_BOLSA</th>\n",
       "      <th>NOME_IES_BOLSA</th>\n",
       "      <th>MUNICIPIO</th>\n",
       "      <th>CAMPUS</th>\n",
       "      <th>TIPO_BOLSA</th>\n",
       "      <th>MODALIDADE_ENSINO_BOLSA</th>\n",
       "      <th>NOME_CURSO_BOLSA</th>\n",
       "      <th>NOME_TURNO_CURSO_BOLSA</th>\n",
       "      <th>CPF_BENEFICIARIO</th>\n",
       "      <th>SEXO_BENEFICIARIO</th>\n",
       "      <th>RACA_BENEFICIARIO</th>\n",
       "      <th>DATA_NASCIMENTO</th>\n",
       "      <th>BENEFICIARIO_DEFICIENTE_FISICO</th>\n",
       "      <th>REGIAO_BENEFICIARIO</th>\n",
       "      <th>UF_BENEFICIARIO</th>\n",
       "      <th>MUNICIPIO_BENEFICIARIO</th>\n",
       "    </tr>\n",
       "  </thead>\n",
       "  <tbody>\n",
       "    <tr>\n",
       "      <th>0</th>\n",
       "      <td>2020</td>\n",
       "      <td>322</td>\n",
       "      <td>UNIVERSIDADE PAULISTA</td>\n",
       "      <td>IPATINGA</td>\n",
       "      <td>IPATINGA</td>\n",
       "      <td>INTEGRAL</td>\n",
       "      <td>EAD</td>\n",
       "      <td>PEDAGOGIA</td>\n",
       "      <td>CURSO A DISTÂNCIA</td>\n",
       "      <td>991.XXX.XXX-91</td>\n",
       "      <td>F</td>\n",
       "      <td>Parda</td>\n",
       "      <td>11/08/1973</td>\n",
       "      <td>N</td>\n",
       "      <td>SUDESTE</td>\n",
       "      <td>MG</td>\n",
       "      <td>GOVERNADOR VALADARES</td>\n",
       "    </tr>\n",
       "    <tr>\n",
       "      <th>1</th>\n",
       "      <td>2020</td>\n",
       "      <td>163</td>\n",
       "      <td>UNIVERSIDADE ESTÁCIO DE SÁ</td>\n",
       "      <td>FORTALEZA</td>\n",
       "      <td>EAD VIA CORPVS - CE</td>\n",
       "      <td>INTEGRAL</td>\n",
       "      <td>EAD</td>\n",
       "      <td>MARKETING</td>\n",
       "      <td>CURSO A DISTÂNCIA</td>\n",
       "      <td>067.XXX.XXX-01</td>\n",
       "      <td>M</td>\n",
       "      <td>Parda</td>\n",
       "      <td>13/05/1987</td>\n",
       "      <td>N</td>\n",
       "      <td>NORDESTE</td>\n",
       "      <td>CE</td>\n",
       "      <td>FORTALEZA</td>\n",
       "    </tr>\n",
       "    <tr>\n",
       "      <th>2</th>\n",
       "      <td>2020</td>\n",
       "      <td>17670</td>\n",
       "      <td>FACULDADE DE QUIXERAMOBIM</td>\n",
       "      <td>QUIXERAMOBIM</td>\n",
       "      <td>FACULDADE DE QUIXERAMOBIM - UNIQ</td>\n",
       "      <td>INTEGRAL</td>\n",
       "      <td>PRESENCIAL</td>\n",
       "      <td>FARMÁCIA</td>\n",
       "      <td>NOTURNO</td>\n",
       "      <td>623.XXX.XXX-27</td>\n",
       "      <td>M</td>\n",
       "      <td>Parda</td>\n",
       "      <td>23/07/2001</td>\n",
       "      <td>N</td>\n",
       "      <td>NORDESTE</td>\n",
       "      <td>CE</td>\n",
       "      <td>MOMBACA</td>\n",
       "    </tr>\n",
       "    <tr>\n",
       "      <th>3</th>\n",
       "      <td>2020</td>\n",
       "      <td>203</td>\n",
       "      <td>UNIVERSIDADE SÃO JUDAS TADEU</td>\n",
       "      <td>SAO PAULO</td>\n",
       "      <td>PAULISTA</td>\n",
       "      <td>PARCIAL</td>\n",
       "      <td>PRESENCIAL</td>\n",
       "      <td>DIREITO</td>\n",
       "      <td>MATUTINO</td>\n",
       "      <td>089.XXX.XXX-40</td>\n",
       "      <td>F</td>\n",
       "      <td>Branca</td>\n",
       "      <td>04/04/2003</td>\n",
       "      <td>N</td>\n",
       "      <td>NORDESTE</td>\n",
       "      <td>BA</td>\n",
       "      <td>IBITITA</td>\n",
       "    </tr>\n",
       "    <tr>\n",
       "      <th>4</th>\n",
       "      <td>2020</td>\n",
       "      <td>203</td>\n",
       "      <td>UNIVERSIDADE SÃO JUDAS TADEU</td>\n",
       "      <td>SAO PAULO</td>\n",
       "      <td>PAULISTA</td>\n",
       "      <td>INTEGRAL</td>\n",
       "      <td>PRESENCIAL</td>\n",
       "      <td>DIREITO</td>\n",
       "      <td>MATUTINO</td>\n",
       "      <td>173.XXX.XXX-09</td>\n",
       "      <td>F</td>\n",
       "      <td>Branca</td>\n",
       "      <td>07/12/1977</td>\n",
       "      <td>N</td>\n",
       "      <td>SUDESTE</td>\n",
       "      <td>SP</td>\n",
       "      <td>SAO PAULO</td>\n",
       "    </tr>\n",
       "  </tbody>\n",
       "</table>\n",
       "</div>"
      ],
      "text/plain": [
       "   ANO_CONCESSAO_BOLSA  CODIGO_EMEC_IES_BOLSA                NOME_IES_BOLSA  \\\n",
       "0                 2020                    322         UNIVERSIDADE PAULISTA   \n",
       "1                 2020                    163    UNIVERSIDADE ESTÁCIO DE SÁ   \n",
       "2                 2020                  17670     FACULDADE DE QUIXERAMOBIM   \n",
       "3                 2020                    203  UNIVERSIDADE SÃO JUDAS TADEU   \n",
       "4                 2020                    203  UNIVERSIDADE SÃO JUDAS TADEU   \n",
       "\n",
       "      MUNICIPIO                            CAMPUS TIPO_BOLSA  \\\n",
       "0      IPATINGA                          IPATINGA   INTEGRAL   \n",
       "1     FORTALEZA               EAD VIA CORPVS - CE   INTEGRAL   \n",
       "2  QUIXERAMOBIM  FACULDADE DE QUIXERAMOBIM - UNIQ   INTEGRAL   \n",
       "3     SAO PAULO                          PAULISTA    PARCIAL   \n",
       "4     SAO PAULO                          PAULISTA   INTEGRAL   \n",
       "\n",
       "  MODALIDADE_ENSINO_BOLSA NOME_CURSO_BOLSA NOME_TURNO_CURSO_BOLSA  \\\n",
       "0                     EAD        PEDAGOGIA      CURSO A DISTÂNCIA   \n",
       "1                     EAD        MARKETING      CURSO A DISTÂNCIA   \n",
       "2              PRESENCIAL         FARMÁCIA                NOTURNO   \n",
       "3              PRESENCIAL          DIREITO               MATUTINO   \n",
       "4              PRESENCIAL          DIREITO               MATUTINO   \n",
       "\n",
       "  CPF_BENEFICIARIO SEXO_BENEFICIARIO RACA_BENEFICIARIO DATA_NASCIMENTO  \\\n",
       "0   991.XXX.XXX-91                 F             Parda      11/08/1973   \n",
       "1   067.XXX.XXX-01                 M             Parda      13/05/1987   \n",
       "2   623.XXX.XXX-27                 M             Parda      23/07/2001   \n",
       "3   089.XXX.XXX-40                 F            Branca      04/04/2003   \n",
       "4   173.XXX.XXX-09                 F            Branca      07/12/1977   \n",
       "\n",
       "  BENEFICIARIO_DEFICIENTE_FISICO REGIAO_BENEFICIARIO UF_BENEFICIARIO  \\\n",
       "0                              N             SUDESTE              MG   \n",
       "1                              N            NORDESTE              CE   \n",
       "2                              N            NORDESTE              CE   \n",
       "3                              N            NORDESTE              BA   \n",
       "4                              N             SUDESTE              SP   \n",
       "\n",
       "  MUNICIPIO_BENEFICIARIO  \n",
       "0   GOVERNADOR VALADARES  \n",
       "1              FORTALEZA  \n",
       "2                MOMBACA  \n",
       "3                IBITITA  \n",
       "4              SAO PAULO  "
      ]
     },
     "execution_count": 14,
     "metadata": {},
     "output_type": "execute_result"
    }
   ],
   "source": [
    "df_2020.head()"
   ]
  },
  {
   "cell_type": "code",
   "execution_count": 15,
   "id": "070e3923-d200-4362-a5ab-cc1b9688d96d",
   "metadata": {},
   "outputs": [],
   "source": [
    "colunas_apagar = [\"CODIGO_EMEC_IES_BOLSA\", \"CPF_BENEFICIARIO\"]\n",
    "\n",
    "df_2020.drop(columns = colunas_apagar, inplace = True)"
   ]
  },
  {
   "cell_type": "code",
   "execution_count": 16,
   "id": "abb3b6fd-b8c4-44a0-8a50-338f60fb7956",
   "metadata": {},
   "outputs": [
    {
     "data": {
      "text/plain": [
       "Index(['ANO_CONCESSAO_BOLSA', 'NOME_IES_BOLSA', 'MUNICIPIO', 'CAMPUS',\n",
       "       'TIPO_BOLSA', 'MODALIDADE_ENSINO_BOLSA', 'NOME_CURSO_BOLSA',\n",
       "       'NOME_TURNO_CURSO_BOLSA', 'SEXO_BENEFICIARIO', 'RACA_BENEFICIARIO',\n",
       "       'DATA_NASCIMENTO', 'BENEFICIARIO_DEFICIENTE_FISICO',\n",
       "       'REGIAO_BENEFICIARIO', 'UF_BENEFICIARIO', 'MUNICIPIO_BENEFICIARIO'],\n",
       "      dtype='object')"
      ]
     },
     "execution_count": 16,
     "metadata": {},
     "output_type": "execute_result"
    }
   ],
   "source": [
    "df_2020.columns"
   ]
  },
  {
   "cell_type": "code",
   "execution_count": 17,
   "id": "9a5ddbe8-978d-40d2-80fe-78c56ac92510",
   "metadata": {},
   "outputs": [
    {
     "data": {
      "text/plain": [
       "Index(['ANO_CONCESSAO_BOLSA', 'NOME_IES_BOLSA', 'TIPO_BOLSA',\n",
       "       'MODALIDADE_ENSINO_BOLSA', 'NOME_CURSO_BOLSA', 'NOME_TURNO_CURSO_BOLSA',\n",
       "       'SEXO_BENEFICIARIO_BOLSA', 'RACA_BENEFICIARIO_BOLSA',\n",
       "       'DT_NASCIMENTO_BENEFICIARIO', 'BENEFICIARIO_DEFICIENTE_FISICO',\n",
       "       'REGIAO_BENEFICIARIO_BOLSA', 'SIGLA_UF_BENEFICIARIO_BOLSA',\n",
       "       'MUNICIPIO_BENEFICIARIO_BOLSA'],\n",
       "      dtype='object')"
      ]
     },
     "execution_count": 17,
     "metadata": {},
     "output_type": "execute_result"
    }
   ],
   "source": [
    "df_2018.columns"
   ]
  },
  {
   "cell_type": "code",
   "execution_count": 18,
   "id": "cfb057c3-0371-448d-a8e9-ab82bd096b5a",
   "metadata": {},
   "outputs": [],
   "source": [
    "df_2018.rename(columns={\"ANO_CONCESSAO_BOLSA\": \"ANO_CONCESSAO\", \"NOME_IES_BOLSA\": \"NOME_IES\", \"MODALIDADE_ENSINO_BOLSA\": \"MODALIDADE_ENSINO\",\n",
    "                        \"NOME_CURSO_BOLSA\": \"NOME_CURSO\", \"NOME_TURNO_CURSO_BOLSA\": \"NOME_TURNO_CURSO\", \"SEXO_BENEFICIARIO_BOLSA\": \"SEXO_BENEFICIARIO\",\n",
    "                        \"RACA_BENEFICIARIO_BOLSA\": \"RACA_BENEFICIARIO\", \"DT_NASCIMENTO_BENEFICIARIO\": \"DATA_NASCIMENTO\",\n",
    "                        \"REGIAO_BENEFICIARIO_BOLSA\": \"REGIAO_BENEFICIARIO\", \"SIGLA_UF_BENEFICIARIO_BOLSA\": \"UF_BENEFICIARIO\",\n",
    "                        \"MUNICIPIO_BENEFICIARIO_BOLSA\": \"MUNICIPIO_BENEFICIARIO\"\n",
    "                       }, inplace = True) "
   ]
  },
  {
   "cell_type": "code",
   "execution_count": 19,
   "id": "93bb86bf-5afc-41da-ae50-56e88b673f72",
   "metadata": {},
   "outputs": [],
   "source": [
    "df_2019.rename(columns={\"ANO_CONCESSAO_BOLSA\": \"ANO_CONCESSAO\", \"NOME_IES_BOLSA\": \"NOME_IES\", \"MODALIDADE_ENSINO_BOLSA\": \"MODALIDADE_ENSINO\",\n",
    "                        \"NOME_CURSO_BOLSA\": \"NOME_CURSO\", \"NOME_TURNO_CURSO_BOLSA\": \"NOME_TURNO_CURSO\", \"SEXO_BENEFICIARIO_BOLSA\": \"SEXO_BENEFICIARIO\",\n",
    "                        \"RACA_BENEFICIARIO_BOLSA\": \"RACA_BENEFICIARIO\", \"DT_NASCIMENTO_BENEFICIARIO\": \"DATA_NASCIMENTO\",\n",
    "                        \"REGIAO_BENEFICIARIO_BOLSA\": \"REGIAO_BENEFICIARIO\", \"SIGLA_UF_BENEFICIARIO_BOLSA\": \"UF_BENEFICIARIO\",\n",
    "                        \"MUNICIPIO_BENEFICIARIO_BOLSA\": \"MUNICIPIO_BENEFICIARIO\"\n",
    "                       }, inplace = True) "
   ]
  },
  {
   "cell_type": "code",
   "execution_count": 20,
   "id": "92d3dbee-537b-4a30-aeb7-c8dd91ae7c7d",
   "metadata": {},
   "outputs": [
    {
     "data": {
      "text/plain": [
       "Index(['ANO_CONCESSAO_BOLSA', 'NOME_IES_BOLSA', 'MUNICIPIO', 'CAMPUS',\n",
       "       'TIPO_BOLSA', 'MODALIDADE_ENSINO_BOLSA', 'NOME_CURSO_BOLSA',\n",
       "       'NOME_TURNO_CURSO_BOLSA', 'SEXO_BENEFICIARIO', 'RACA_BENEFICIARIO',\n",
       "       'DATA_NASCIMENTO', 'BENEFICIARIO_DEFICIENTE_FISICO',\n",
       "       'REGIAO_BENEFICIARIO', 'UF_BENEFICIARIO', 'MUNICIPIO_BENEFICIARIO'],\n",
       "      dtype='object')"
      ]
     },
     "execution_count": 20,
     "metadata": {},
     "output_type": "execute_result"
    }
   ],
   "source": [
    "df_2020.columns"
   ]
  },
  {
   "cell_type": "code",
   "execution_count": 21,
   "id": "c98f4c4d-7b24-42a2-99ab-10ddf0b77d05",
   "metadata": {},
   "outputs": [
    {
     "data": {
      "text/plain": [
       "Index(['ANO_CONCESSAO', 'NOME_IES', 'TIPO_BOLSA', 'MODALIDADE_ENSINO',\n",
       "       'NOME_CURSO', 'NOME_TURNO_CURSO', 'SEXO_BENEFICIARIO',\n",
       "       'RACA_BENEFICIARIO', 'DATA_NASCIMENTO',\n",
       "       'BENEFICIARIO_DEFICIENTE_FISICO', 'REGIAO_BENEFICIARIO',\n",
       "       'UF_BENEFICIARIO', 'MUNICIPIO_BENEFICIARIO'],\n",
       "      dtype='object')"
      ]
     },
     "execution_count": 21,
     "metadata": {},
     "output_type": "execute_result"
    }
   ],
   "source": [
    "df_2018.columns"
   ]
  },
  {
   "cell_type": "code",
   "execution_count": 22,
   "id": "441a7e62-60b5-4580-b3f9-c5c1d909ee51",
   "metadata": {},
   "outputs": [],
   "source": [
    "df_2020.rename(columns={\"ANO_CONCESSAO_BOLSA\": \"ANO_CONCESSAO\", \"NOME_IES_BOLSA\": \"NOME_IES\", \"MODALIDADE_ENSINO_BOLSA\": \"MODALIDADE_ENSINO\",\n",
    "                        \"NOME_CURSO_BOLSA\": \"NOME_CURSO\", \"NOME_TURNO_CURSO_BOLSA\": \"NOME_TURNO_CURSO\"\n",
    "                       }, inplace = True) "
   ]
  },
  {
   "cell_type": "markdown",
   "id": "ed98bc33-c4e1-4e27-9dd4-beed2563c302",
   "metadata": {},
   "source": [
    "Justificativa para a exclusão das colunas \"MUNICIPIO\" e \"CAMPUS\":\n",
    "\n",
    "Consistência e padronização dos dados: A presença das colunas \"MUNICIPIO\" e \"CAMPUS\" em apenas um dos datasets pode gerar inconsistências e dificultar a análise comparativa entre os conjuntos de dados. Ao remover essas colunas, busca-se manter a consistência e padronização dos dados, evitando informações isoladas que possam prejudicar a integração e interpretação adequada dos dados.\n",
    "\n",
    "Relevância para os objetivos da análise: Considerando os objetivos estabelecidos para a análise, verifica-se que as colunas \"MUNICIPIO\" e \"CAMPUS\" não apresentam uma contribuição significativa ou impacto direto nos resultados esperados. Ao excluir essas colunas, busca-se focar nos atributos mais relevantes e essenciais para a análise em questão, simplificando o conjunto de dados e facilitando a interpretação dos resultados obtidos.\n",
    "\n",
    "Redução da complexidade e otimização da análise: A exclusão das colunas \"MUNICIPIO\" e \"CAMPUS\" resulta em um conjunto de dados mais conciso e menos complexo, permitindo uma análise mais eficiente e eficaz. A simplificação do conjunto de dados contribui para a redução de ruídos e informações desnecessárias, tornando a análise mais direcionada e focada nos aspectos-chave que influenciam os resultados desejados.\n",
    "\n",
    "Facilidade na integração de dados: A presença de colunas exclusivas em apenas um dos datasets pode gerar desafios na integração dos dados. Ao excluir as colunas \"MUNICIPIO\" e \"CAMPUS\", busca-se facilitar a combinação dos datasets, promovendo uma harmonização dos atributos comuns e permitindo uma análise mais abrangente e coerente.\n",
    "\n",
    "Dessa forma, a exclusão das colunas \"MUNICIPIO\" e \"CAMPUS\" é justificada pela necessidade de manter a consistência e padronização dos dados, focar nos atributos relevantes, reduzir a complexidade, otimizar a análise e facilitar a integração dos datasets."
   ]
  },
  {
   "cell_type": "code",
   "execution_count": 23,
   "id": "653d6ac7-07d8-4734-bb53-c74e846e5e99",
   "metadata": {},
   "outputs": [],
   "source": [
    "colunas_apagar = [\"MUNICIPIO\", \"CAMPUS\"]\n",
    "\n",
    "df_2020.drop(columns = colunas_apagar, inplace = True)"
   ]
  },
  {
   "cell_type": "code",
   "execution_count": 24,
   "id": "1685c304-bb07-46c5-ace0-e6e03e52bd89",
   "metadata": {},
   "outputs": [
    {
     "data": {
      "text/plain": [
       "(166830, 13)"
      ]
     },
     "execution_count": 24,
     "metadata": {},
     "output_type": "execute_result"
    }
   ],
   "source": [
    "df_2020.shape"
   ]
  },
  {
   "cell_type": "code",
   "execution_count": 25,
   "id": "4b54a78a-fe3c-4062-8e1e-757f26b67b95",
   "metadata": {},
   "outputs": [
    {
     "data": {
      "text/plain": [
       "Index(['ANO_CONCESSAO', 'NOME_IES', 'TIPO_BOLSA', 'MODALIDADE_ENSINO',\n",
       "       'NOME_CURSO', 'NOME_TURNO_CURSO', 'SEXO_BENEFICIARIO',\n",
       "       'RACA_BENEFICIARIO', 'DATA_NASCIMENTO',\n",
       "       'BENEFICIARIO_DEFICIENTE_FISICO', 'REGIAO_BENEFICIARIO',\n",
       "       'UF_BENEFICIARIO', 'MUNICIPIO_BENEFICIARIO'],\n",
       "      dtype='object')"
      ]
     },
     "execution_count": 25,
     "metadata": {},
     "output_type": "execute_result"
    }
   ],
   "source": [
    "df_2018.columns"
   ]
  },
  {
   "cell_type": "code",
   "execution_count": 26,
   "id": "88771f05-f392-4572-ac83-db3a517edb40",
   "metadata": {},
   "outputs": [
    {
     "data": {
      "text/plain": [
       "Index(['ANO_CONCESSAO', 'NOME_IES', 'TIPO_BOLSA', 'MODALIDADE_ENSINO',\n",
       "       'NOME_CURSO', 'NOME_TURNO_CURSO', 'SEXO_BENEFICIARIO',\n",
       "       'RACA_BENEFICIARIO', 'DATA_NASCIMENTO',\n",
       "       'BENEFICIARIO_DEFICIENTE_FISICO', 'REGIAO_BENEFICIARIO',\n",
       "       'UF_BENEFICIARIO', 'MUNICIPIO_BENEFICIARIO'],\n",
       "      dtype='object')"
      ]
     },
     "execution_count": 26,
     "metadata": {},
     "output_type": "execute_result"
    }
   ],
   "source": [
    "df_2019.columns"
   ]
  },
  {
   "cell_type": "code",
   "execution_count": 27,
   "id": "b3e68156-2265-4bf6-9b30-131978f47889",
   "metadata": {},
   "outputs": [
    {
     "data": {
      "text/plain": [
       "Index(['ANO_CONCESSAO', 'NOME_IES', 'TIPO_BOLSA', 'MODALIDADE_ENSINO',\n",
       "       'NOME_CURSO', 'NOME_TURNO_CURSO', 'SEXO_BENEFICIARIO',\n",
       "       'RACA_BENEFICIARIO', 'DATA_NASCIMENTO',\n",
       "       'BENEFICIARIO_DEFICIENTE_FISICO', 'REGIAO_BENEFICIARIO',\n",
       "       'UF_BENEFICIARIO', 'MUNICIPIO_BENEFICIARIO'],\n",
       "      dtype='object')"
      ]
     },
     "execution_count": 27,
     "metadata": {},
     "output_type": "execute_result"
    }
   ],
   "source": [
    "df_2020.columns"
   ]
  },
  {
   "cell_type": "code",
   "execution_count": 28,
   "id": "c9a01e61-199a-46d6-9f18-84081eb39c81",
   "metadata": {},
   "outputs": [],
   "source": [
    "df_prouni = pd.concat([df_2018, df_2019, df_2020])"
   ]
  },
  {
   "cell_type": "code",
   "execution_count": 29,
   "id": "e77f26c3-84b5-42cb-bad4-b0744603787f",
   "metadata": {},
   "outputs": [
    {
     "data": {
      "text/plain": [
       "(648894, 13)"
      ]
     },
     "execution_count": 29,
     "metadata": {},
     "output_type": "execute_result"
    }
   ],
   "source": [
    "df_prouni.shape"
   ]
  },
  {
   "cell_type": "code",
   "execution_count": 30,
   "id": "4444484a-2ae9-498d-a55d-8235d4860a2f",
   "metadata": {},
   "outputs": [
    {
     "data": {
      "text/plain": [
       "ANO_CONCESSAO                     15477\n",
       "NOME_IES                          15477\n",
       "TIPO_BOLSA                        15477\n",
       "MODALIDADE_ENSINO                 15477\n",
       "NOME_CURSO                        15515\n",
       "NOME_TURNO_CURSO                  15477\n",
       "SEXO_BENEFICIARIO                 15477\n",
       "RACA_BENEFICIARIO                 15477\n",
       "DATA_NASCIMENTO                   15477\n",
       "BENEFICIARIO_DEFICIENTE_FISICO    15477\n",
       "REGIAO_BENEFICIARIO               15477\n",
       "UF_BENEFICIARIO                   15477\n",
       "MUNICIPIO_BENEFICIARIO            15477\n",
       "dtype: int64"
      ]
     },
     "execution_count": 30,
     "metadata": {},
     "output_type": "execute_result"
    }
   ],
   "source": [
    "df_prouni.isna().sum()"
   ]
  },
  {
   "cell_type": "code",
   "execution_count": 31,
   "id": "7a8ae1f1-d853-46b6-8cae-0937ccd810c0",
   "metadata": {
    "scrolled": true
   },
   "outputs": [
    {
     "name": "stdout",
     "output_type": "stream",
     "text": [
      "        ANO_CONCESSAO                                  NOME_IES TIPO_BOLSA  \\\n",
      "225555            NaN                                       NaN        NaN   \n",
      "225556            NaN                                       NaN        NaN   \n",
      "225557            NaN                                       NaN        NaN   \n",
      "225558            NaN                                       NaN        NaN   \n",
      "225559            NaN                                       NaN        NaN   \n",
      "...               ...                                       ...        ...   \n",
      "166789         2020.0       FACULDADE PRESIDENTE ANTÔNIO CARLOS   INTEGRAL   \n",
      "166790         2020.0  FACULDADE EVANGELICA MACKENZIE DO PARANÁ   INTEGRAL   \n",
      "166791         2020.0  FACULDADE EVANGELICA MACKENZIE DO PARANÁ   INTEGRAL   \n",
      "166794         2020.0       FACULDADE PRESIDENTE ANTÔNIO CARLOS   INTEGRAL   \n",
      "166820         2020.0          CENTRO UNIVERSITÁRIO DA AMAZÔNIA   INTEGRAL   \n",
      "\n",
      "       MODALIDADE_ENSINO NOME_CURSO NOME_TURNO_CURSO SEXO_BENEFICIARIO  \\\n",
      "225555               NaN        NaN              NaN               NaN   \n",
      "225556               NaN        NaN              NaN               NaN   \n",
      "225557               NaN        NaN              NaN               NaN   \n",
      "225558               NaN        NaN              NaN               NaN   \n",
      "225559               NaN        NaN              NaN               NaN   \n",
      "...                  ...        ...              ...               ...   \n",
      "166789        PRESENCIAL        NaN         INTEGRAL                 F   \n",
      "166790        PRESENCIAL        NaN         INTEGRAL                 F   \n",
      "166791        PRESENCIAL        NaN         INTEGRAL                 F   \n",
      "166794        PRESENCIAL        NaN         INTEGRAL                 F   \n",
      "166820        PRESENCIAL        NaN         MATUTINO                 F   \n",
      "\n",
      "       RACA_BENEFICIARIO DATA_NASCIMENTO BENEFICIARIO_DEFICIENTE_FISICO  \\\n",
      "225555               NaN             NaN                            NaN   \n",
      "225556               NaN             NaN                            NaN   \n",
      "225557               NaN             NaN                            NaN   \n",
      "225558               NaN             NaN                            NaN   \n",
      "225559               NaN             NaN                            NaN   \n",
      "...                  ...             ...                            ...   \n",
      "166789            Branca      09/11/2002                              N   \n",
      "166790            Branca      10/06/1998                              N   \n",
      "166791            Branca      11/05/1999                              N   \n",
      "166794            Branca      20/11/1999                              N   \n",
      "166820             Parda      27/09/2002                              N   \n",
      "\n",
      "       REGIAO_BENEFICIARIO UF_BENEFICIARIO MUNICIPIO_BENEFICIARIO  \n",
      "225555                 NaN             NaN                    NaN  \n",
      "225556                 NaN             NaN                    NaN  \n",
      "225557                 NaN             NaN                    NaN  \n",
      "225558                 NaN             NaN                    NaN  \n",
      "225559                 NaN             NaN                    NaN  \n",
      "...                    ...             ...                    ...  \n",
      "166789            NORDESTE              MA             ACAILANDIA  \n",
      "166790                 SUL              PR            CAMPO LARGO  \n",
      "166791            NORDESTE              PE               PAULISTA  \n",
      "166794            NORDESTE              MA            JOAO LISBOA  \n",
      "166820               NORTE              PA               SANTAREM  \n",
      "\n",
      "[15515 rows x 13 columns]\n"
     ]
    }
   ],
   "source": [
    "missing_data = df_prouni[df_prouni['NOME_CURSO'].isnull()]\n",
    "print(missing_data)"
   ]
  },
  {
   "cell_type": "code",
   "execution_count": 32,
   "id": "cb095443-a6d7-463e-8f96-d7e86d08a938",
   "metadata": {},
   "outputs": [
    {
     "name": "stdout",
     "output_type": "stream",
     "text": [
      "Número de valores ausentes em 'ANO_CONCESSAO': 15477\n"
     ]
    }
   ],
   "source": [
    "count_missing = df_prouni['ANO_CONCESSAO'].isnull().sum()\n",
    "print(\"Número de valores ausentes em 'ANO_CONCESSAO':\", count_missing)"
   ]
  },
  {
   "cell_type": "code",
   "execution_count": 33,
   "id": "084a1309-7dce-4c02-81e8-cd983c24de63",
   "metadata": {},
   "outputs": [
    {
     "name": "stdout",
     "output_type": "stream",
     "text": [
      "Porcentagem de valores ausentes para a variável 'ANO_CONCESSAO': 2.39%\n"
     ]
    }
   ],
   "source": [
    "porc_ausentes_est_civil = (df_prouni[\"ANO_CONCESSAO\"].isnull().sum() / len(df_prouni[\"ANO_CONCESSAO\"])) * 100\n",
    "print(f\"Porcentagem de valores ausentes para a variável 'ANO_CONCESSAO': {porc_ausentes_est_civil:.2f}%\")"
   ]
  },
  {
   "cell_type": "code",
   "execution_count": 34,
   "id": "bb881a5c-0643-444c-a0ba-9642b8359d69",
   "metadata": {},
   "outputs": [
    {
     "data": {
      "text/plain": [
       "ANO_CONCESSAO                     15477\n",
       "NOME_IES                          15477\n",
       "TIPO_BOLSA                        15477\n",
       "MODALIDADE_ENSINO                 15477\n",
       "NOME_CURSO                        15515\n",
       "NOME_TURNO_CURSO                  15477\n",
       "SEXO_BENEFICIARIO                 15477\n",
       "RACA_BENEFICIARIO                 15477\n",
       "DATA_NASCIMENTO                   15477\n",
       "BENEFICIARIO_DEFICIENTE_FISICO    15477\n",
       "REGIAO_BENEFICIARIO               15477\n",
       "UF_BENEFICIARIO                   15477\n",
       "MUNICIPIO_BENEFICIARIO            15477\n",
       "dtype: int64"
      ]
     },
     "execution_count": 34,
     "metadata": {},
     "output_type": "execute_result"
    }
   ],
   "source": [
    "df_prouni.isna().sum()"
   ]
  },
  {
   "cell_type": "code",
   "execution_count": 35,
   "id": "50c39fc5-46a3-414a-a67d-8312f5c3d957",
   "metadata": {},
   "outputs": [
    {
     "name": "stdout",
     "output_type": "stream",
     "text": [
      "Porcentagem de valores ausentes para cada coluna:\n",
      "ANO_CONCESSAO                     2.39\n",
      "NOME_IES                          2.39\n",
      "TIPO_BOLSA                        2.39\n",
      "MODALIDADE_ENSINO                 2.39\n",
      "NOME_CURSO                        2.39\n",
      "NOME_TURNO_CURSO                  2.39\n",
      "SEXO_BENEFICIARIO                 2.39\n",
      "RACA_BENEFICIARIO                 2.39\n",
      "DATA_NASCIMENTO                   2.39\n",
      "BENEFICIARIO_DEFICIENTE_FISICO    2.39\n",
      "REGIAO_BENEFICIARIO               2.39\n",
      "UF_BENEFICIARIO                   2.39\n",
      "MUNICIPIO_BENEFICIARIO            2.39\n",
      "dtype: float64%\n"
     ]
    }
   ],
   "source": [
    "porc_ausentes = (df_prouni.isnull().sum() / len(df_prouni)) * 100\n",
    "porc_ausentes = porc_ausentes.round(2)\n",
    "print(f\"Porcentagem de valores ausentes para cada coluna:\\n{porc_ausentes}%\")"
   ]
  },
  {
   "cell_type": "markdown",
   "id": "80a834ba-8966-4328-a884-51e8c7559226",
   "metadata": {},
   "source": [
    "Ao analisar o conjunto de dados, foi identificado que todas as variáveis possuem o mesmo número de valores ausentes, correspondendo a 2,39% do total de dados. Após uma investigação mais detalhada, constatou-se que esses valores ausentes correspondem a casos em que as informações não foram informadas.\r\n",
    "\r\n",
    "Dessa forma, optou-se por manter esses valores ausentes no conjunto de dados por algumas razões fundamentais:\r\n",
    "\r\n",
    "1. Preservação da integridade do conjunto de dados: Em vez de simplesmente remover os valores ausentes, mantê-los no conjunto de dados permite que essas informações sejam preservadas. Essa abordagem é especialmente útil caso haja necessidade de acompanhar a quantidade ou a distribuição dos valores ausentes ao longo do tempo ou comparar com outros atributos relacionados.\r\n",
    "\r\n",
    "2. Impacto mínimo na análise dos dados: Como o número de valores ausentes corresponde a apenas 2,39% do total de dados, sua remoção poderia ter um impacto mínimo na análise subsequente. Dessa forma, optou-se por mantê-los no conjunto de dados para garantir a integridade e a completude das informações.\r\n",
    "\r\n",
    "Portanto, ao manter os valores ausentes no conjunto de dados, você preservou a integridade das informações e minimizou o impacto na análise subsequente."
   ]
  },
  {
   "cell_type": "code",
   "execution_count": 36,
   "id": "3f16fcc6-9dda-4c28-9ce3-8ec51360d2b8",
   "metadata": {},
   "outputs": [],
   "source": [
    "df_prouni = df_prouni.fillna('Outro')"
   ]
  },
  {
   "cell_type": "code",
   "execution_count": 37,
   "id": "debf7664-d162-4176-b6dc-048e9ef0870c",
   "metadata": {},
   "outputs": [
    {
     "data": {
      "text/plain": [
       "ANO_CONCESSAO                     0\n",
       "NOME_IES                          0\n",
       "TIPO_BOLSA                        0\n",
       "MODALIDADE_ENSINO                 0\n",
       "NOME_CURSO                        0\n",
       "NOME_TURNO_CURSO                  0\n",
       "SEXO_BENEFICIARIO                 0\n",
       "RACA_BENEFICIARIO                 0\n",
       "DATA_NASCIMENTO                   0\n",
       "BENEFICIARIO_DEFICIENTE_FISICO    0\n",
       "REGIAO_BENEFICIARIO               0\n",
       "UF_BENEFICIARIO                   0\n",
       "MUNICIPIO_BENEFICIARIO            0\n",
       "dtype: int64"
      ]
     },
     "execution_count": 37,
     "metadata": {},
     "output_type": "execute_result"
    }
   ],
   "source": [
    "df_prouni.isna().sum()"
   ]
  },
  {
   "cell_type": "code",
   "execution_count": 38,
   "id": "0c6cacee-49a1-444e-8c3e-f010478c89bb",
   "metadata": {},
   "outputs": [],
   "source": [
    "cnn = sqlite3.connect(\"database/prouni.db\")"
   ]
  },
  {
   "cell_type": "code",
   "execution_count": 39,
   "id": "43108df3-a7f0-4b99-be67-f662ecbf4963",
   "metadata": {},
   "outputs": [],
   "source": [
    "prouni = df_prouni.to_sql(\"prouni\", cnn, if_exists=\"replace\")"
   ]
  },
  {
   "cell_type": "code",
   "execution_count": 40,
   "id": "5b41a5f5-56c5-43d5-985b-f355620a5870",
   "metadata": {},
   "outputs": [],
   "source": [
    "query = \"SELECT * FROM prouni\"\n",
    "prouni = pd.read_sql(query, cnn)"
   ]
  },
  {
   "cell_type": "code",
   "execution_count": 41,
   "id": "a92c5de7-3fc2-44c2-9e51-bb3f314000b6",
   "metadata": {},
   "outputs": [
    {
     "data": {
      "text/html": [
       "<div>\n",
       "<style scoped>\n",
       "    .dataframe tbody tr th:only-of-type {\n",
       "        vertical-align: middle;\n",
       "    }\n",
       "\n",
       "    .dataframe tbody tr th {\n",
       "        vertical-align: top;\n",
       "    }\n",
       "\n",
       "    .dataframe thead th {\n",
       "        text-align: right;\n",
       "    }\n",
       "</style>\n",
       "<table border=\"1\" class=\"dataframe\">\n",
       "  <thead>\n",
       "    <tr style=\"text-align: right;\">\n",
       "      <th></th>\n",
       "      <th>index</th>\n",
       "      <th>ANO_CONCESSAO</th>\n",
       "      <th>NOME_IES</th>\n",
       "      <th>TIPO_BOLSA</th>\n",
       "      <th>MODALIDADE_ENSINO</th>\n",
       "      <th>NOME_CURSO</th>\n",
       "      <th>NOME_TURNO_CURSO</th>\n",
       "      <th>SEXO_BENEFICIARIO</th>\n",
       "      <th>RACA_BENEFICIARIO</th>\n",
       "      <th>DATA_NASCIMENTO</th>\n",
       "      <th>BENEFICIARIO_DEFICIENTE_FISICO</th>\n",
       "      <th>REGIAO_BENEFICIARIO</th>\n",
       "      <th>UF_BENEFICIARIO</th>\n",
       "      <th>MUNICIPIO_BENEFICIARIO</th>\n",
       "    </tr>\n",
       "  </thead>\n",
       "  <tbody>\n",
       "    <tr>\n",
       "      <th>0</th>\n",
       "      <td>0</td>\n",
       "      <td>2018.0</td>\n",
       "      <td>UNIVERSIDADE CATÓLICA DE PERNAMBUCO</td>\n",
       "      <td>BOLSA INTEGRAL</td>\n",
       "      <td>Presencial</td>\n",
       "      <td>Letras - Espanhol</td>\n",
       "      <td>Noturno</td>\n",
       "      <td>F</td>\n",
       "      <td>Parda</td>\n",
       "      <td>15/07/1980</td>\n",
       "      <td>N</td>\n",
       "      <td>Nordeste</td>\n",
       "      <td>PE</td>\n",
       "      <td>RECIFE</td>\n",
       "    </tr>\n",
       "    <tr>\n",
       "      <th>1</th>\n",
       "      <td>1</td>\n",
       "      <td>2018.0</td>\n",
       "      <td>UNIVERSIDADE CATÓLICA DE PERNAMBUCO</td>\n",
       "      <td>BOLSA INTEGRAL</td>\n",
       "      <td>Presencial</td>\n",
       "      <td>Letras - Português E Espanhol</td>\n",
       "      <td>Noturno</td>\n",
       "      <td>M</td>\n",
       "      <td>Branca</td>\n",
       "      <td>06/09/2000</td>\n",
       "      <td>N</td>\n",
       "      <td>Nordeste</td>\n",
       "      <td>PE</td>\n",
       "      <td>PAULISTA</td>\n",
       "    </tr>\n",
       "    <tr>\n",
       "      <th>2</th>\n",
       "      <td>2</td>\n",
       "      <td>2018.0</td>\n",
       "      <td>UNIVERSIDADE CATÓLICA DE PERNAMBUCO</td>\n",
       "      <td>BOLSA INTEGRAL</td>\n",
       "      <td>Presencial</td>\n",
       "      <td>Psicologia</td>\n",
       "      <td>Vespertino</td>\n",
       "      <td>F</td>\n",
       "      <td>Parda</td>\n",
       "      <td>04/11/1998</td>\n",
       "      <td>N</td>\n",
       "      <td>Nordeste</td>\n",
       "      <td>PE</td>\n",
       "      <td>RECIFE</td>\n",
       "    </tr>\n",
       "    <tr>\n",
       "      <th>3</th>\n",
       "      <td>3</td>\n",
       "      <td>2018.0</td>\n",
       "      <td>UNIVERSIDADE CATÓLICA DE PERNAMBUCO</td>\n",
       "      <td>BOLSA INTEGRAL</td>\n",
       "      <td>Presencial</td>\n",
       "      <td>Serviço Social</td>\n",
       "      <td>Noturno</td>\n",
       "      <td>F</td>\n",
       "      <td>Parda</td>\n",
       "      <td>29/09/1999</td>\n",
       "      <td>N</td>\n",
       "      <td>Nordeste</td>\n",
       "      <td>PE</td>\n",
       "      <td>RECIFE</td>\n",
       "    </tr>\n",
       "    <tr>\n",
       "      <th>4</th>\n",
       "      <td>4</td>\n",
       "      <td>2018.0</td>\n",
       "      <td>UNIVERSIDADE DE CAXIAS DO SUL</td>\n",
       "      <td>BOLSA INTEGRAL</td>\n",
       "      <td>EAD</td>\n",
       "      <td>Administração</td>\n",
       "      <td>Curso a distância</td>\n",
       "      <td>F</td>\n",
       "      <td>Branca</td>\n",
       "      <td>30/04/2000</td>\n",
       "      <td>N</td>\n",
       "      <td>Sul</td>\n",
       "      <td>RS</td>\n",
       "      <td>SAO FRANCISCO DE PAULA</td>\n",
       "    </tr>\n",
       "  </tbody>\n",
       "</table>\n",
       "</div>"
      ],
      "text/plain": [
       "   index ANO_CONCESSAO                             NOME_IES      TIPO_BOLSA  \\\n",
       "0      0        2018.0  UNIVERSIDADE CATÓLICA DE PERNAMBUCO  BOLSA INTEGRAL   \n",
       "1      1        2018.0  UNIVERSIDADE CATÓLICA DE PERNAMBUCO  BOLSA INTEGRAL   \n",
       "2      2        2018.0  UNIVERSIDADE CATÓLICA DE PERNAMBUCO  BOLSA INTEGRAL   \n",
       "3      3        2018.0  UNIVERSIDADE CATÓLICA DE PERNAMBUCO  BOLSA INTEGRAL   \n",
       "4      4        2018.0        UNIVERSIDADE DE CAXIAS DO SUL  BOLSA INTEGRAL   \n",
       "\n",
       "  MODALIDADE_ENSINO                     NOME_CURSO   NOME_TURNO_CURSO  \\\n",
       "0        Presencial              Letras - Espanhol            Noturno   \n",
       "1        Presencial  Letras - Português E Espanhol            Noturno   \n",
       "2        Presencial                     Psicologia         Vespertino   \n",
       "3        Presencial                 Serviço Social            Noturno   \n",
       "4               EAD                  Administração  Curso a distância   \n",
       "\n",
       "  SEXO_BENEFICIARIO RACA_BENEFICIARIO DATA_NASCIMENTO  \\\n",
       "0                 F             Parda      15/07/1980   \n",
       "1                 M            Branca      06/09/2000   \n",
       "2                 F             Parda      04/11/1998   \n",
       "3                 F             Parda      29/09/1999   \n",
       "4                 F            Branca      30/04/2000   \n",
       "\n",
       "  BENEFICIARIO_DEFICIENTE_FISICO REGIAO_BENEFICIARIO UF_BENEFICIARIO  \\\n",
       "0                              N            Nordeste              PE   \n",
       "1                              N            Nordeste              PE   \n",
       "2                              N            Nordeste              PE   \n",
       "3                              N            Nordeste              PE   \n",
       "4                              N                 Sul              RS   \n",
       "\n",
       "   MUNICIPIO_BENEFICIARIO  \n",
       "0                  RECIFE  \n",
       "1                PAULISTA  \n",
       "2                  RECIFE  \n",
       "3                  RECIFE  \n",
       "4  SAO FRANCISCO DE PAULA  "
      ]
     },
     "execution_count": 41,
     "metadata": {},
     "output_type": "execute_result"
    }
   ],
   "source": [
    "prouni.head()"
   ]
  }
 ],
 "metadata": {
  "kernelspec": {
   "display_name": "Python 3 (ipykernel)",
   "language": "python",
   "name": "python3"
  },
  "language_info": {
   "codemirror_mode": {
    "name": "ipython",
    "version": 3
   },
   "file_extension": ".py",
   "mimetype": "text/x-python",
   "name": "python",
   "nbconvert_exporter": "python",
   "pygments_lexer": "ipython3",
   "version": "3.11.4"
  }
 },
 "nbformat": 4,
 "nbformat_minor": 5
}
